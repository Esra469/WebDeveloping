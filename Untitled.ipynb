{
 "cells": [
  {
   "cell_type": "code",
   "execution_count": null,
   "id": "0c64a8d8-ca68-43ce-b9e7-67f43dce4f9e",
   "metadata": {},
   "outputs": [],
   "source": []
  },
  {
   "cell_type": "code",
   "execution_count": 49,
   "id": "3cfe97c3-170c-48df-b667-4fe7dd0dc0d5",
   "metadata": {},
   "outputs": [],
   "source": [
    "import pandas as pd"
   ]
  },
  {
   "cell_type": "code",
   "execution_count": 50,
   "id": "6f8d7487-ab0e-412a-abcd-b45cb0da70b1",
   "metadata": {},
   "outputs": [],
   "source": [
    "df = pd.read_csv(\"spotify_millsongdata.csv\")"
   ]
  },
  {
   "cell_type": "code",
   "execution_count": 51,
   "id": "fbc069f8-cbcf-4c36-92c3-2b1f8a3aa591",
   "metadata": {},
   "outputs": [
    {
     "data": {
      "text/html": [
       "<div>\n",
       "<style scoped>\n",
       "    .dataframe tbody tr th:only-of-type {\n",
       "        vertical-align: middle;\n",
       "    }\n",
       "\n",
       "    .dataframe tbody tr th {\n",
       "        vertical-align: top;\n",
       "    }\n",
       "\n",
       "    .dataframe thead th {\n",
       "        text-align: right;\n",
       "    }\n",
       "</style>\n",
       "<table border=\"1\" class=\"dataframe\">\n",
       "  <thead>\n",
       "    <tr style=\"text-align: right;\">\n",
       "      <th></th>\n",
       "      <th>artist</th>\n",
       "      <th>song</th>\n",
       "      <th>link</th>\n",
       "      <th>text</th>\n",
       "    </tr>\n",
       "  </thead>\n",
       "  <tbody>\n",
       "    <tr>\n",
       "      <th>0</th>\n",
       "      <td>ABBA</td>\n",
       "      <td>Ahe's My Kind Of Girl</td>\n",
       "      <td>/a/abba/ahes+my+kind+of+girl_20598417.html</td>\n",
       "      <td>Look at her face, it's a wonderful face  \\r\\nA...</td>\n",
       "    </tr>\n",
       "    <tr>\n",
       "      <th>1</th>\n",
       "      <td>ABBA</td>\n",
       "      <td>Andante, Andante</td>\n",
       "      <td>/a/abba/andante+andante_20002708.html</td>\n",
       "      <td>Take it easy with me, please  \\r\\nTouch me gen...</td>\n",
       "    </tr>\n",
       "    <tr>\n",
       "      <th>2</th>\n",
       "      <td>ABBA</td>\n",
       "      <td>As Good As New</td>\n",
       "      <td>/a/abba/as+good+as+new_20003033.html</td>\n",
       "      <td>I'll never know why I had to go  \\r\\nWhy I had...</td>\n",
       "    </tr>\n",
       "    <tr>\n",
       "      <th>3</th>\n",
       "      <td>ABBA</td>\n",
       "      <td>Bang</td>\n",
       "      <td>/a/abba/bang_20598415.html</td>\n",
       "      <td>Making somebody happy is a question of give an...</td>\n",
       "    </tr>\n",
       "    <tr>\n",
       "      <th>4</th>\n",
       "      <td>ABBA</td>\n",
       "      <td>Bang-A-Boomerang</td>\n",
       "      <td>/a/abba/bang+a+boomerang_20002668.html</td>\n",
       "      <td>Making somebody happy is a question of give an...</td>\n",
       "    </tr>\n",
       "    <tr>\n",
       "      <th>...</th>\n",
       "      <td>...</td>\n",
       "      <td>...</td>\n",
       "      <td>...</td>\n",
       "      <td>...</td>\n",
       "    </tr>\n",
       "    <tr>\n",
       "      <th>57645</th>\n",
       "      <td>Ziggy Marley</td>\n",
       "      <td>Good Old Days</td>\n",
       "      <td>/z/ziggy+marley/good+old+days_10198588.html</td>\n",
       "      <td>Irie days come on play  \\r\\nLet the angels fly...</td>\n",
       "    </tr>\n",
       "    <tr>\n",
       "      <th>57646</th>\n",
       "      <td>Ziggy Marley</td>\n",
       "      <td>Hand To Mouth</td>\n",
       "      <td>/z/ziggy+marley/hand+to+mouth_20531167.html</td>\n",
       "      <td>Power to the workers  \\r\\nMore power  \\r\\nPowe...</td>\n",
       "    </tr>\n",
       "    <tr>\n",
       "      <th>57647</th>\n",
       "      <td>Zwan</td>\n",
       "      <td>Come With Me</td>\n",
       "      <td>/z/zwan/come+with+me_20148981.html</td>\n",
       "      <td>all you need  \\r\\nis something i'll believe  \\...</td>\n",
       "    </tr>\n",
       "    <tr>\n",
       "      <th>57648</th>\n",
       "      <td>Zwan</td>\n",
       "      <td>Desire</td>\n",
       "      <td>/z/zwan/desire_20148986.html</td>\n",
       "      <td>northern star  \\r\\nam i frightened  \\r\\nwhere ...</td>\n",
       "    </tr>\n",
       "    <tr>\n",
       "      <th>57649</th>\n",
       "      <td>Zwan</td>\n",
       "      <td>Heartsong</td>\n",
       "      <td>/z/zwan/heartsong_20148991.html</td>\n",
       "      <td>come in  \\r\\nmake yourself at home  \\r\\ni'm a ...</td>\n",
       "    </tr>\n",
       "  </tbody>\n",
       "</table>\n",
       "<p>57650 rows × 4 columns</p>\n",
       "</div>"
      ],
      "text/plain": [
       "             artist                   song  \\\n",
       "0              ABBA  Ahe's My Kind Of Girl   \n",
       "1              ABBA       Andante, Andante   \n",
       "2              ABBA         As Good As New   \n",
       "3              ABBA                   Bang   \n",
       "4              ABBA       Bang-A-Boomerang   \n",
       "...             ...                    ...   \n",
       "57645  Ziggy Marley          Good Old Days   \n",
       "57646  Ziggy Marley          Hand To Mouth   \n",
       "57647          Zwan           Come With Me   \n",
       "57648          Zwan                 Desire   \n",
       "57649          Zwan              Heartsong   \n",
       "\n",
       "                                              link  \\\n",
       "0       /a/abba/ahes+my+kind+of+girl_20598417.html   \n",
       "1            /a/abba/andante+andante_20002708.html   \n",
       "2             /a/abba/as+good+as+new_20003033.html   \n",
       "3                       /a/abba/bang_20598415.html   \n",
       "4           /a/abba/bang+a+boomerang_20002668.html   \n",
       "...                                            ...   \n",
       "57645  /z/ziggy+marley/good+old+days_10198588.html   \n",
       "57646  /z/ziggy+marley/hand+to+mouth_20531167.html   \n",
       "57647           /z/zwan/come+with+me_20148981.html   \n",
       "57648                 /z/zwan/desire_20148986.html   \n",
       "57649              /z/zwan/heartsong_20148991.html   \n",
       "\n",
       "                                                    text  \n",
       "0      Look at her face, it's a wonderful face  \\r\\nA...  \n",
       "1      Take it easy with me, please  \\r\\nTouch me gen...  \n",
       "2      I'll never know why I had to go  \\r\\nWhy I had...  \n",
       "3      Making somebody happy is a question of give an...  \n",
       "4      Making somebody happy is a question of give an...  \n",
       "...                                                  ...  \n",
       "57645  Irie days come on play  \\r\\nLet the angels fly...  \n",
       "57646  Power to the workers  \\r\\nMore power  \\r\\nPowe...  \n",
       "57647  all you need  \\r\\nis something i'll believe  \\...  \n",
       "57648  northern star  \\r\\nam i frightened  \\r\\nwhere ...  \n",
       "57649  come in  \\r\\nmake yourself at home  \\r\\ni'm a ...  \n",
       "\n",
       "[57650 rows x 4 columns]"
      ]
     },
     "execution_count": 51,
     "metadata": {},
     "output_type": "execute_result"
    }
   ],
   "source": [
    "df"
   ]
  },
  {
   "cell_type": "code",
   "execution_count": 52,
   "id": "b354e52a-51a1-41ce-92de-7d45e2fb654b",
   "metadata": {},
   "outputs": [
    {
     "data": {
      "text/plain": [
       "0        Look at her face, it's a wonderful face  \\r\\nA...\n",
       "1        Take it easy with me, please  \\r\\nTouch me gen...\n",
       "2        I'll never know why I had to go  \\r\\nWhy I had...\n",
       "3        Making somebody happy is a question of give an...\n",
       "4        Making somebody happy is a question of give an...\n",
       "                               ...                        \n",
       "57645    Irie days come on play  \\r\\nLet the angels fly...\n",
       "57646    Power to the workers  \\r\\nMore power  \\r\\nPowe...\n",
       "57647    all you need  \\r\\nis something i'll believe  \\...\n",
       "57648    northern star  \\r\\nam i frightened  \\r\\nwhere ...\n",
       "57649    come in  \\r\\nmake yourself at home  \\r\\ni'm a ...\n",
       "Name: text, Length: 57650, dtype: object"
      ]
     },
     "execution_count": 52,
     "metadata": {},
     "output_type": "execute_result"
    }
   ],
   "source": [
    "df['text']"
   ]
  },
  {
   "cell_type": "code",
   "execution_count": 53,
   "id": "0cecea05-bf25-4bc7-b8d3-d9f87702f86f",
   "metadata": {},
   "outputs": [
    {
     "data": {
      "text/plain": [
       "\"Look at her face, it's a wonderful face  \\r\\nAnd it means something special to me  \\r\\nLook at the way that she smiles when she sees me  \\r\\nHow lucky can one fellow be?  \\r\\n  \\r\\nShe's just my kind of girl, she makes me feel fine  \\r\\nWho could ever believe that she could be mine?  \\r\\nShe's just my kind of girl, without her I'm blue  \\r\\nAnd if she ever leaves me what could I do, what could I do?  \\r\\n  \\r\\nAnd when we go for a walk in the park  \\r\\nAnd she holds me and squeezes my hand  \\r\\nWe'll go on walking for hours and talking  \\r\\nAbout all the things that we plan  \\r\\n  \\r\\nShe's just my kind of girl, she makes me feel fine  \\r\\nWho could ever believe that she could be mine?  \\r\\nShe's just my kind of girl, without her I'm blue  \\r\\nAnd if she ever leaves me what could I do, what could I do?\\r\\n\\r\\n\""
      ]
     },
     "execution_count": 53,
     "metadata": {},
     "output_type": "execute_result"
    }
   ],
   "source": [
    "df.loc[0,'text']"
   ]
  },
  {
   "cell_type": "code",
   "execution_count": 54,
   "id": "597a5629-a01e-448e-973c-deb85535add4",
   "metadata": {},
   "outputs": [
    {
     "data": {
      "text/plain": [
       "(57650, 4)"
      ]
     },
     "execution_count": 54,
     "metadata": {},
     "output_type": "execute_result"
    }
   ],
   "source": [
    "df.shape"
   ]
  },
  {
   "cell_type": "code",
   "execution_count": 55,
   "id": "9abd88d6-7510-4066-b868-c0ba0c29ccb7",
   "metadata": {},
   "outputs": [],
   "source": [
    "df = df.sample(5000).drop('link', axis=1).reset_index(drop=True)"
   ]
  },
  {
   "cell_type": "code",
   "execution_count": 56,
   "id": "c9001974-b5ae-4d83-9c06-b2ee94d4b696",
   "metadata": {},
   "outputs": [
    {
     "data": {
      "text/html": [
       "<div>\n",
       "<style scoped>\n",
       "    .dataframe tbody tr th:only-of-type {\n",
       "        vertical-align: middle;\n",
       "    }\n",
       "\n",
       "    .dataframe tbody tr th {\n",
       "        vertical-align: top;\n",
       "    }\n",
       "\n",
       "    .dataframe thead th {\n",
       "        text-align: right;\n",
       "    }\n",
       "</style>\n",
       "<table border=\"1\" class=\"dataframe\">\n",
       "  <thead>\n",
       "    <tr style=\"text-align: right;\">\n",
       "      <th></th>\n",
       "      <th>artist</th>\n",
       "      <th>song</th>\n",
       "      <th>text</th>\n",
       "    </tr>\n",
       "  </thead>\n",
       "  <tbody>\n",
       "    <tr>\n",
       "      <th>0</th>\n",
       "      <td>David Allan Coe</td>\n",
       "      <td>Tanya Montana</td>\n",
       "      <td>Why the day you were born, girl  \\r\\nYour mom ...</td>\n",
       "    </tr>\n",
       "    <tr>\n",
       "      <th>1</th>\n",
       "      <td>Incognito</td>\n",
       "      <td>Pyramids</td>\n",
       "      <td>There's a sky in the east  \\r\\nOver pyramids a...</td>\n",
       "    </tr>\n",
       "    <tr>\n",
       "      <th>2</th>\n",
       "      <td>Demi Lovato</td>\n",
       "      <td>This Is Me</td>\n",
       "      <td>I've always been the kind of girl  \\r\\nThat hi...</td>\n",
       "    </tr>\n",
       "    <tr>\n",
       "      <th>3</th>\n",
       "      <td>Meat Loaf</td>\n",
       "      <td>Getting Away With Murder</td>\n",
       "      <td>She thought she had the only key  \\r\\nShe thou...</td>\n",
       "    </tr>\n",
       "    <tr>\n",
       "      <th>4</th>\n",
       "      <td>Beach Boys</td>\n",
       "      <td>Back Home</td>\n",
       "      <td>Yeah yeah yeah  \\r\\nWell I'm going back this s...</td>\n",
       "    </tr>\n",
       "    <tr>\n",
       "      <th>...</th>\n",
       "      <td>...</td>\n",
       "      <td>...</td>\n",
       "      <td>...</td>\n",
       "    </tr>\n",
       "    <tr>\n",
       "      <th>4995</th>\n",
       "      <td>Carpenters</td>\n",
       "      <td>Silent Night</td>\n",
       "      <td>Silent Night  \\r\\nHoly Night  \\r\\nAll is calm ...</td>\n",
       "    </tr>\n",
       "    <tr>\n",
       "      <th>4996</th>\n",
       "      <td>INXS</td>\n",
       "      <td>Elegantly Wasted</td>\n",
       "      <td>Look at all that shines  \\r\\nBaby's down on th...</td>\n",
       "    </tr>\n",
       "    <tr>\n",
       "      <th>4997</th>\n",
       "      <td>Tiffany</td>\n",
       "      <td>Here In My Heart</td>\n",
       "      <td>Sometimes there's a time when you must say goo...</td>\n",
       "    </tr>\n",
       "    <tr>\n",
       "      <th>4998</th>\n",
       "      <td>Bonnie Raitt</td>\n",
       "      <td>I Need Love</td>\n",
       "      <td>I need love  \\r\\nAnd I search it everyplace I ...</td>\n",
       "    </tr>\n",
       "    <tr>\n",
       "      <th>4999</th>\n",
       "      <td>Paul Simon</td>\n",
       "      <td>Bridge Over Troubled Waters</td>\n",
       "      <td>When you're weary  \\r\\nFeeling small  \\r\\nWhen...</td>\n",
       "    </tr>\n",
       "  </tbody>\n",
       "</table>\n",
       "<p>5000 rows × 3 columns</p>\n",
       "</div>"
      ],
      "text/plain": [
       "               artist                         song  \\\n",
       "0     David Allan Coe                Tanya Montana   \n",
       "1           Incognito                     Pyramids   \n",
       "2         Demi Lovato                   This Is Me   \n",
       "3           Meat Loaf     Getting Away With Murder   \n",
       "4          Beach Boys                    Back Home   \n",
       "...               ...                          ...   \n",
       "4995       Carpenters                 Silent Night   \n",
       "4996             INXS             Elegantly Wasted   \n",
       "4997          Tiffany             Here In My Heart   \n",
       "4998     Bonnie Raitt                  I Need Love   \n",
       "4999       Paul Simon  Bridge Over Troubled Waters   \n",
       "\n",
       "                                                   text  \n",
       "0     Why the day you were born, girl  \\r\\nYour mom ...  \n",
       "1     There's a sky in the east  \\r\\nOver pyramids a...  \n",
       "2     I've always been the kind of girl  \\r\\nThat hi...  \n",
       "3     She thought she had the only key  \\r\\nShe thou...  \n",
       "4     Yeah yeah yeah  \\r\\nWell I'm going back this s...  \n",
       "...                                                 ...  \n",
       "4995  Silent Night  \\r\\nHoly Night  \\r\\nAll is calm ...  \n",
       "4996  Look at all that shines  \\r\\nBaby's down on th...  \n",
       "4997  Sometimes there's a time when you must say goo...  \n",
       "4998  I need love  \\r\\nAnd I search it everyplace I ...  \n",
       "4999  When you're weary  \\r\\nFeeling small  \\r\\nWhen...  \n",
       "\n",
       "[5000 rows x 3 columns]"
      ]
     },
     "execution_count": 56,
     "metadata": {},
     "output_type": "execute_result"
    }
   ],
   "source": [
    "df"
   ]
  },
  {
   "cell_type": "code",
   "execution_count": 57,
   "id": "f813963e-c44e-49fa-93da-0b794120220a",
   "metadata": {},
   "outputs": [],
   "source": [
    "df['text'] = df['text'].str.lower().replace(r'^\\w\\s', ' ').replace(r'\\n', ' ', regex = True)"
   ]
  },
  {
   "cell_type": "code",
   "execution_count": 58,
   "id": "a6ff1fdc-2e42-4f10-b006-107ca677907f",
   "metadata": {},
   "outputs": [
    {
     "data": {
      "text/html": [
       "<div>\n",
       "<style scoped>\n",
       "    .dataframe tbody tr th:only-of-type {\n",
       "        vertical-align: middle;\n",
       "    }\n",
       "\n",
       "    .dataframe tbody tr th {\n",
       "        vertical-align: top;\n",
       "    }\n",
       "\n",
       "    .dataframe thead th {\n",
       "        text-align: right;\n",
       "    }\n",
       "</style>\n",
       "<table border=\"1\" class=\"dataframe\">\n",
       "  <thead>\n",
       "    <tr style=\"text-align: right;\">\n",
       "      <th></th>\n",
       "      <th>artist</th>\n",
       "      <th>song</th>\n",
       "      <th>text</th>\n",
       "    </tr>\n",
       "  </thead>\n",
       "  <tbody>\n",
       "    <tr>\n",
       "      <th>0</th>\n",
       "      <td>David Allan Coe</td>\n",
       "      <td>Tanya Montana</td>\n",
       "      <td>why the day you were born, girl  \\r your mom a...</td>\n",
       "    </tr>\n",
       "    <tr>\n",
       "      <th>1</th>\n",
       "      <td>Incognito</td>\n",
       "      <td>Pyramids</td>\n",
       "      <td>there's a sky in the east  \\r over pyramids at...</td>\n",
       "    </tr>\n",
       "    <tr>\n",
       "      <th>2</th>\n",
       "      <td>Demi Lovato</td>\n",
       "      <td>This Is Me</td>\n",
       "      <td>i've always been the kind of girl  \\r that hid...</td>\n",
       "    </tr>\n",
       "    <tr>\n",
       "      <th>3</th>\n",
       "      <td>Meat Loaf</td>\n",
       "      <td>Getting Away With Murder</td>\n",
       "      <td>she thought she had the only key  \\r she thoug...</td>\n",
       "    </tr>\n",
       "    <tr>\n",
       "      <th>4</th>\n",
       "      <td>Beach Boys</td>\n",
       "      <td>Back Home</td>\n",
       "      <td>yeah yeah yeah  \\r well i'm going back this su...</td>\n",
       "    </tr>\n",
       "    <tr>\n",
       "      <th>...</th>\n",
       "      <td>...</td>\n",
       "      <td>...</td>\n",
       "      <td>...</td>\n",
       "    </tr>\n",
       "    <tr>\n",
       "      <th>4995</th>\n",
       "      <td>Carpenters</td>\n",
       "      <td>Silent Night</td>\n",
       "      <td>silent night  \\r holy night  \\r all is calm  \\...</td>\n",
       "    </tr>\n",
       "    <tr>\n",
       "      <th>4996</th>\n",
       "      <td>INXS</td>\n",
       "      <td>Elegantly Wasted</td>\n",
       "      <td>look at all that shines  \\r baby's down on the...</td>\n",
       "    </tr>\n",
       "    <tr>\n",
       "      <th>4997</th>\n",
       "      <td>Tiffany</td>\n",
       "      <td>Here In My Heart</td>\n",
       "      <td>sometimes there's a time when you must say goo...</td>\n",
       "    </tr>\n",
       "    <tr>\n",
       "      <th>4998</th>\n",
       "      <td>Bonnie Raitt</td>\n",
       "      <td>I Need Love</td>\n",
       "      <td>i need love  \\r and i search it everyplace i g...</td>\n",
       "    </tr>\n",
       "    <tr>\n",
       "      <th>4999</th>\n",
       "      <td>Paul Simon</td>\n",
       "      <td>Bridge Over Troubled Waters</td>\n",
       "      <td>when you're weary  \\r feeling small  \\r when t...</td>\n",
       "    </tr>\n",
       "  </tbody>\n",
       "</table>\n",
       "<p>5000 rows × 3 columns</p>\n",
       "</div>"
      ],
      "text/plain": [
       "               artist                         song  \\\n",
       "0     David Allan Coe                Tanya Montana   \n",
       "1           Incognito                     Pyramids   \n",
       "2         Demi Lovato                   This Is Me   \n",
       "3           Meat Loaf     Getting Away With Murder   \n",
       "4          Beach Boys                    Back Home   \n",
       "...               ...                          ...   \n",
       "4995       Carpenters                 Silent Night   \n",
       "4996             INXS             Elegantly Wasted   \n",
       "4997          Tiffany             Here In My Heart   \n",
       "4998     Bonnie Raitt                  I Need Love   \n",
       "4999       Paul Simon  Bridge Over Troubled Waters   \n",
       "\n",
       "                                                   text  \n",
       "0     why the day you were born, girl  \\r your mom a...  \n",
       "1     there's a sky in the east  \\r over pyramids at...  \n",
       "2     i've always been the kind of girl  \\r that hid...  \n",
       "3     she thought she had the only key  \\r she thoug...  \n",
       "4     yeah yeah yeah  \\r well i'm going back this su...  \n",
       "...                                                 ...  \n",
       "4995  silent night  \\r holy night  \\r all is calm  \\...  \n",
       "4996  look at all that shines  \\r baby's down on the...  \n",
       "4997  sometimes there's a time when you must say goo...  \n",
       "4998  i need love  \\r and i search it everyplace i g...  \n",
       "4999  when you're weary  \\r feeling small  \\r when t...  \n",
       "\n",
       "[5000 rows x 3 columns]"
      ]
     },
     "execution_count": 58,
     "metadata": {},
     "output_type": "execute_result"
    }
   ],
   "source": [
    "df"
   ]
  },
  {
   "cell_type": "code",
   "execution_count": 59,
   "id": "12707723-b808-4ae4-b9a1-6dca7f229ee3",
   "metadata": {},
   "outputs": [],
   "source": [
    "df['text'] = df['text'].str.lower().replace(r'^\\w\\s', ' ').replace(r'\\n', ' ', regex = True)"
   ]
  },
  {
   "cell_type": "code",
   "execution_count": 60,
   "id": "123405b2-46fa-4115-8eef-484a31bb64a4",
   "metadata": {},
   "outputs": [
    {
     "data": {
      "text/plain": [
       "\"why the day you were born, girl  \\r your mom and i named you, tanya montana  \\r i just thought you should know  \\r   \\r your eyes were  \\r as blue as the skies of montana  \\r your skin was  \\r as white as fresh falling snow  \\r   \\r tanya montana is some thing to see  \\r a dream that came true for your mother and me  \\r a small piece of heaven on earth as they say  \\r but tanya montana is so far away  \\r   \\r why some day you're gonna grow up  \\r and you're gonna leave us, sweet tanya  \\r and some man will steal you  \\r some man's gonna steal you away, i know  \\r   \\r but you know me and your momma  \\r why we love you, montana  \\r lord, it's going to break our hearts  \\r when we see you go  \\r   \\r tanya montana has been on my mind  \\r like the eagles that fly above reaching the light  \\r searching for freedom, you'll find it some day  \\r and then tanya montana will be so far away\\r \\r \""
      ]
     },
     "execution_count": 60,
     "metadata": {},
     "output_type": "execute_result"
    }
   ],
   "source": [
    "df.loc[0,'text']"
   ]
  },
  {
   "cell_type": "code",
   "execution_count": 61,
   "id": "e80fd288-0138-485f-be49-c1d673fd6ef6",
   "metadata": {},
   "outputs": [
    {
     "data": {
      "text/plain": [
       "\"why the day you were born, girl  \\r your mom and i named you, tanya montana  \\r i just thought you should know  \\r   \\r your eyes were  \\r as blue as the skies of montana  \\r your skin was  \\r as white as fresh falling snow  \\r   \\r tanya montana is some thing to see  \\r a dream that came true for your mother and me  \\r a small piece of heaven on earth as they say  \\r but tanya montana is so far away  \\r   \\r why some day you're gonna grow up  \\r and you're gonna leave us, sweet tanya  \\r and some man will steal you  \\r some man's gonna steal you away, i know  \\r   \\r but you know me and your momma  \\r why we love you, montana  \\r lord, it's going to break our hearts  \\r when we see you go  \\r   \\r tanya montana has been on my mind  \\r like the eagles that fly above reaching the light  \\r searching for freedom, you'll find it some day  \\r and then tanya montana will be so far away\\r \\r \""
      ]
     },
     "execution_count": 61,
     "metadata": {},
     "output_type": "execute_result"
    }
   ],
   "source": [
    "df.loc[0,'text']"
   ]
  },
  {
   "cell_type": "code",
   "execution_count": 62,
   "id": "bc24a635-7ad5-4c22-beb1-f9861242d406",
   "metadata": {},
   "outputs": [],
   "source": [
    "df['text'] = df['text'].str.lower().replace(r'^\\w\\s', ' ').replace(r'\\r', ' ', regex = True)"
   ]
  },
  {
   "cell_type": "code",
   "execution_count": 63,
   "id": "5cb37b8c-cfc4-48c8-be45-85c0d1f71549",
   "metadata": {},
   "outputs": [
    {
     "data": {
      "text/plain": [
       "\"why the day you were born, girl    your mom and i named you, tanya montana    i just thought you should know        your eyes were    as blue as the skies of montana    your skin was    as white as fresh falling snow        tanya montana is some thing to see    a dream that came true for your mother and me    a small piece of heaven on earth as they say    but tanya montana is so far away        why some day you're gonna grow up    and you're gonna leave us, sweet tanya    and some man will steal you    some man's gonna steal you away, i know        but you know me and your momma    why we love you, montana    lord, it's going to break our hearts    when we see you go        tanya montana has been on my mind    like the eagles that fly above reaching the light    searching for freedom, you'll find it some day    and then tanya montana will be so far away    \""
      ]
     },
     "execution_count": 63,
     "metadata": {},
     "output_type": "execute_result"
    }
   ],
   "source": [
    "df.loc[0,'text']"
   ]
  },
  {
   "cell_type": "code",
   "execution_count": 64,
   "id": "d36a1aed-66dd-4a48-b214-7282ff964915",
   "metadata": {},
   "outputs": [],
   "source": [
    "import nltk\n",
    "from nltk.stem.porter import PorterStemmer\n",
    "stemmer = PorterStemmer()\n",
    "\n",
    "def tokenization(txt):\n",
    "    tokens = nltk.word_tokenize(txt)\n",
    "    stemming = [stemmer.stem(w) for w in tokens]\n",
    "    return \" \".join(stemming)"
   ]
  },
  {
   "cell_type": "code",
   "execution_count": 65,
   "id": "49c30013-5b48-48da-b659-b2ecf7c2cd6e",
   "metadata": {},
   "outputs": [],
   "source": [
    "from sklearn.feature_extraction.text import TfidfVectorizer\n",
    "from sklearn.metrics.pairwise import cosine_similarity"
   ]
  },
  {
   "cell_type": "code",
   "execution_count": 66,
   "id": "b53e29a8-d30f-4565-b5c9-51c00417ff16",
   "metadata": {},
   "outputs": [],
   "source": [
    "tfidvector = TfidfVectorizer(analyzer='word',stop_words='english')\n",
    "matrix = tfidvector.fit_transform(df['text'])\n",
    "similarity = cosine_similarity(matrix)"
   ]
  },
  {
   "cell_type": "code",
   "execution_count": 67,
   "id": "d50f3720-0664-4401-8ef5-69f88164ba67",
   "metadata": {},
   "outputs": [
    {
     "data": {
      "text/plain": [
       "array([1.        , 0.00841834, 0.05709896, ..., 0.06999556, 0.04400553,\n",
       "       0.01596303])"
      ]
     },
     "execution_count": 67,
     "metadata": {},
     "output_type": "execute_result"
    }
   ],
   "source": [
    "similarity[0]"
   ]
  },
  {
   "cell_type": "code",
   "execution_count": 84,
   "id": "bf7d853a-93ab-4fe8-837d-61874d53a736",
   "metadata": {},
   "outputs": [
    {
     "data": {
      "text/html": [
       "<div>\n",
       "<style scoped>\n",
       "    .dataframe tbody tr th:only-of-type {\n",
       "        vertical-align: middle;\n",
       "    }\n",
       "\n",
       "    .dataframe tbody tr th {\n",
       "        vertical-align: top;\n",
       "    }\n",
       "\n",
       "    .dataframe thead th {\n",
       "        text-align: right;\n",
       "    }\n",
       "</style>\n",
       "<table border=\"1\" class=\"dataframe\">\n",
       "  <thead>\n",
       "    <tr style=\"text-align: right;\">\n",
       "      <th></th>\n",
       "      <th>artist</th>\n",
       "      <th>song</th>\n",
       "      <th>text</th>\n",
       "    </tr>\n",
       "  </thead>\n",
       "  <tbody>\n",
       "    <tr>\n",
       "      <th>858</th>\n",
       "      <td>Taylor Swift</td>\n",
       "      <td>Last Christmas</td>\n",
       "      <td>last christmas i gave you my heart    but the ...</td>\n",
       "    </tr>\n",
       "    <tr>\n",
       "      <th>1281</th>\n",
       "      <td>Taylor Swift</td>\n",
       "      <td>Our Song</td>\n",
       "      <td>i was riding shotgun with my hair undone in th...</td>\n",
       "    </tr>\n",
       "    <tr>\n",
       "      <th>1814</th>\n",
       "      <td>Taylor Swift</td>\n",
       "      <td>Everything Has Changed</td>\n",
       "      <td>all i knew this morning when i woke    is i kn...</td>\n",
       "    </tr>\n",
       "    <tr>\n",
       "      <th>2411</th>\n",
       "      <td>Taylor Swift</td>\n",
       "      <td>Red</td>\n",
       "      <td>loving him is like driving a new maserati down...</td>\n",
       "    </tr>\n",
       "    <tr>\n",
       "      <th>3260</th>\n",
       "      <td>Taylor Swift</td>\n",
       "      <td>Crazier</td>\n",
       "      <td>i've never gone with the wind, just let it flo...</td>\n",
       "    </tr>\n",
       "  </tbody>\n",
       "</table>\n",
       "</div>"
      ],
      "text/plain": [
       "            artist                    song  \\\n",
       "858   Taylor Swift          Last Christmas   \n",
       "1281  Taylor Swift                Our Song   \n",
       "1814  Taylor Swift  Everything Has Changed   \n",
       "2411  Taylor Swift                     Red   \n",
       "3260  Taylor Swift                 Crazier   \n",
       "\n",
       "                                                   text  \n",
       "858   last christmas i gave you my heart    but the ...  \n",
       "1281  i was riding shotgun with my hair undone in th...  \n",
       "1814  all i knew this morning when i woke    is i kn...  \n",
       "2411  loving him is like driving a new maserati down...  \n",
       "3260  i've never gone with the wind, just let it flo...  "
      ]
     },
     "execution_count": 84,
     "metadata": {},
     "output_type": "execute_result"
    }
   ],
   "source": [
    "df[df['artist'] == 'Taylor Swift']"
   ]
  },
  {
   "cell_type": "code",
   "execution_count": 77,
   "id": "1d04fc1b-6527-4573-b11d-e878dde82dd0",
   "metadata": {},
   "outputs": [
    {
     "data": {
      "text/html": [
       "<div>\n",
       "<style scoped>\n",
       "    .dataframe tbody tr th:only-of-type {\n",
       "        vertical-align: middle;\n",
       "    }\n",
       "\n",
       "    .dataframe tbody tr th {\n",
       "        vertical-align: top;\n",
       "    }\n",
       "\n",
       "    .dataframe thead th {\n",
       "        text-align: right;\n",
       "    }\n",
       "</style>\n",
       "<table border=\"1\" class=\"dataframe\">\n",
       "  <thead>\n",
       "    <tr style=\"text-align: right;\">\n",
       "      <th></th>\n",
       "      <th>artist</th>\n",
       "      <th>song</th>\n",
       "      <th>text</th>\n",
       "    </tr>\n",
       "  </thead>\n",
       "  <tbody>\n",
       "    <tr>\n",
       "      <th>0</th>\n",
       "      <td>David Allan Coe</td>\n",
       "      <td>Tanya Montana</td>\n",
       "      <td>why the day you were born, girl    your mom an...</td>\n",
       "    </tr>\n",
       "    <tr>\n",
       "      <th>1</th>\n",
       "      <td>Incognito</td>\n",
       "      <td>Pyramids</td>\n",
       "      <td>there's a sky in the east    over pyramids at ...</td>\n",
       "    </tr>\n",
       "    <tr>\n",
       "      <th>2</th>\n",
       "      <td>Demi Lovato</td>\n",
       "      <td>This Is Me</td>\n",
       "      <td>i've always been the kind of girl    that hid ...</td>\n",
       "    </tr>\n",
       "    <tr>\n",
       "      <th>3</th>\n",
       "      <td>Meat Loaf</td>\n",
       "      <td>Getting Away With Murder</td>\n",
       "      <td>she thought she had the only key    she though...</td>\n",
       "    </tr>\n",
       "    <tr>\n",
       "      <th>4</th>\n",
       "      <td>Beach Boys</td>\n",
       "      <td>Back Home</td>\n",
       "      <td>yeah yeah yeah    well i'm going back this sum...</td>\n",
       "    </tr>\n",
       "    <tr>\n",
       "      <th>...</th>\n",
       "      <td>...</td>\n",
       "      <td>...</td>\n",
       "      <td>...</td>\n",
       "    </tr>\n",
       "    <tr>\n",
       "      <th>4995</th>\n",
       "      <td>Carpenters</td>\n",
       "      <td>Silent Night</td>\n",
       "      <td>silent night    holy night    all is calm    a...</td>\n",
       "    </tr>\n",
       "    <tr>\n",
       "      <th>4996</th>\n",
       "      <td>INXS</td>\n",
       "      <td>Elegantly Wasted</td>\n",
       "      <td>look at all that shines    baby's down on the ...</td>\n",
       "    </tr>\n",
       "    <tr>\n",
       "      <th>4997</th>\n",
       "      <td>Tiffany</td>\n",
       "      <td>Here In My Heart</td>\n",
       "      <td>sometimes there's a time when you must say goo...</td>\n",
       "    </tr>\n",
       "    <tr>\n",
       "      <th>4998</th>\n",
       "      <td>Bonnie Raitt</td>\n",
       "      <td>I Need Love</td>\n",
       "      <td>i need love    and i search it everyplace i go...</td>\n",
       "    </tr>\n",
       "    <tr>\n",
       "      <th>4999</th>\n",
       "      <td>Paul Simon</td>\n",
       "      <td>Bridge Over Troubled Waters</td>\n",
       "      <td>when you're weary    feeling small    when tea...</td>\n",
       "    </tr>\n",
       "  </tbody>\n",
       "</table>\n",
       "<p>5000 rows × 3 columns</p>\n",
       "</div>"
      ],
      "text/plain": [
       "               artist                         song  \\\n",
       "0     David Allan Coe                Tanya Montana   \n",
       "1           Incognito                     Pyramids   \n",
       "2         Demi Lovato                   This Is Me   \n",
       "3           Meat Loaf     Getting Away With Murder   \n",
       "4          Beach Boys                    Back Home   \n",
       "...               ...                          ...   \n",
       "4995       Carpenters                 Silent Night   \n",
       "4996             INXS             Elegantly Wasted   \n",
       "4997          Tiffany             Here In My Heart   \n",
       "4998     Bonnie Raitt                  I Need Love   \n",
       "4999       Paul Simon  Bridge Over Troubled Waters   \n",
       "\n",
       "                                                   text  \n",
       "0     why the day you were born, girl    your mom an...  \n",
       "1     there's a sky in the east    over pyramids at ...  \n",
       "2     i've always been the kind of girl    that hid ...  \n",
       "3     she thought she had the only key    she though...  \n",
       "4     yeah yeah yeah    well i'm going back this sum...  \n",
       "...                                                 ...  \n",
       "4995  silent night    holy night    all is calm    a...  \n",
       "4996  look at all that shines    baby's down on the ...  \n",
       "4997  sometimes there's a time when you must say goo...  \n",
       "4998  i need love    and i search it everyplace i go...  \n",
       "4999  when you're weary    feeling small    when tea...  \n",
       "\n",
       "[5000 rows x 3 columns]"
      ]
     },
     "execution_count": 77,
     "metadata": {},
     "output_type": "execute_result"
    }
   ],
   "source": [
    "df"
   ]
  },
  {
   "cell_type": "code",
   "execution_count": 73,
   "id": "f8f17d6a-4a25-4ac5-99f5-fa2b52d43941",
   "metadata": {},
   "outputs": [],
   "source": [
    "def recommendation(song_df):\n",
    "    idx = df[df['song'] == song_df].index[0]\n",
    "    distances = sorted(list(enumerate(similarity[idx])),reverse=True,key=lambda x:x[1])\n",
    "    \n",
    "    songs = []\n",
    "    for m_id in distances[1:21]:\n",
    "        songs.append(df.iloc[m_id[0]].song)\n",
    "        \n",
    "    return songs"
   ]
  },
  {
   "cell_type": "code",
   "execution_count": 85,
   "id": "8fbd9ad3-3703-4842-9c02-e4dca53600f0",
   "metadata": {},
   "outputs": [
    {
     "data": {
      "text/plain": [
       "['Please Come Home For Christmas',\n",
       " 'December Song (I Dreamed Of Christmas)',\n",
       " 'Christmas Everyday',\n",
       " 'If I Gave You My Heart',\n",
       " \"Christmas Won't Be The Same This Year\",\n",
       " 'Happy Xmas',\n",
       " 'All I Want Is You',\n",
       " 'Christmas Wish',\n",
       " 'Home On Christmas Day',\n",
       " 'Christmas Through Your Eyes',\n",
       " 'Yule Shoot Your Eye Out',\n",
       " 'On Christmas Morning',\n",
       " 'Blue Christmas',\n",
       " 'The Night Before Christmas',\n",
       " 'Save This Dance For Me',\n",
       " 'Christmas Island',\n",
       " 'So This Is Christmas',\n",
       " 'I Gave It Up (When I Fell In Love)',\n",
       " 'Christmas Is',\n",
       " 'Christmas Island']"
      ]
     },
     "execution_count": 85,
     "metadata": {},
     "output_type": "execute_result"
    }
   ],
   "source": [
    "recommendation('Last Christmas')"
   ]
  },
  {
   "cell_type": "code",
   "execution_count": null,
   "id": "73fdebe9-0670-4962-9ebc-e47ed09d0505",
   "metadata": {},
   "outputs": [],
   "source": []
  },
  {
   "cell_type": "code",
   "execution_count": null,
   "id": "0a3bd6f0-e66f-4735-b137-9841afb8dd63",
   "metadata": {},
   "outputs": [],
   "source": []
  }
 ],
 "metadata": {
  "kernelspec": {
   "display_name": "Python 3 (ipykernel)",
   "language": "python",
   "name": "python3"
  },
  "language_info": {
   "codemirror_mode": {
    "name": "ipython",
    "version": 3
   },
   "file_extension": ".py",
   "mimetype": "text/x-python",
   "name": "python",
   "nbconvert_exporter": "python",
   "pygments_lexer": "ipython3",
   "version": "3.11.7"
  }
 },
 "nbformat": 4,
 "nbformat_minor": 5
}
